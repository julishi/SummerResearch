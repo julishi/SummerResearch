{
 "cells": [
  {
   "cell_type": "code",
   "execution_count": 4,
   "metadata": {},
   "outputs": [
    {
     "name": "stdout",
     "output_type": "stream",
     "text": [
      "FilesDivided\n",
      "HAM10000\n",
      "JIDEditorialImages\n",
      "MSK-2\n",
      "MSK-3\n",
      "MSK-4\n",
      "MSK-5\n",
      "UDA-1\n",
      "UDA-2\n",
      "place 0 in image files\n",
      "FilesDivided\n",
      "HAM10000\n",
      "JIDEditorialImages\n",
      "MSK-2\n",
      "MSK-3\n",
      "MSK-4\n",
      "MSK-5\n",
      "UDA-1\n",
      "UDA-2\n"
     ]
    }
   ],
   "source": [
    "import os\n",
    "from PIL import Image, ImageFilter\n",
    "import glob \n",
    "import random\n",
    "import shutil \n",
    "import tensorflow as tf\n",
    "import json\n",
    "from tensorflow.examples.tutorials.mnist import input_data\n",
    "\n",
    "#Declare the Empty list for Classes, otherwise it will be filled with irrelevant data\n",
    "img_files = []\n",
    "\n",
    "# set input dir path\n",
    "path = '/Users/julianashihadeh/Desktop/testProject/SummerResearchTutorials'\n",
    "\n",
    "#Change current directory to Images \n",
    "os.chdir(path + '/ISIC-SubSet')\n",
    "\n",
    "for x in glob.glob('./*'):\n",
    "    img_files.append(x.split('/')[1])\n",
    "\n",
    "for i in img_files:\n",
    "    print(i)\n",
    "print(\"place 0 in image files\")\n",
    "print(img_files[0])\n",
    "img_files.pop(0)\n",
    "for i in img_files:\n",
    "    print(i)"
   ]
  },
  {
   "cell_type": "code",
   "execution_count": 15,
   "metadata": {},
   "outputs": [
    {
     "name": "stdout",
     "output_type": "stream",
     "text": [
      "[]\n"
     ]
    }
   ],
   "source": [
    "json_files = []\n",
    "os.chdir(path + '/ISIC-SubSet/FilesDivided/MSK-2/JSONFiles/')\n",
    "for x in glob.glob('./*'):\n",
    "    json_files.append(x)\n",
    "\n",
    "#all_json_files = glob.glob(path + '/ISIC-SubSet/FilesDivided/HAM10000/JSONFiles*.json')\n",
    "print(all_json_files)\n",
    "#r = 1\n",
    "#json_files = []\n",
    "#for i in img_files:\n",
    "#    print(\"Round\")\n",
    "#    print(r)\n",
    "#    all_json_files = glob.glob(path + '/ISIC-SubSet/FilesDivided' + i + '/*.json')\n",
    "#    for x in all_json_files:\n",
    "#        json_files.append(x.split('/')[7])\n",
    "#    print(\"ALL JSON FILES\")\n",
    "#    print(json_files)\n",
    "#    r = r + 1"
   ]
  },
  {
   "cell_type": "code",
   "execution_count": null,
   "metadata": {},
   "outputs": [],
   "source": []
  }
 ],
 "metadata": {
  "kernelspec": {
   "display_name": "Python 3",
   "language": "python",
   "name": "python3"
  },
  "language_info": {
   "codemirror_mode": {
    "name": "ipython",
    "version": 3
   },
   "file_extension": ".py",
   "mimetype": "text/x-python",
   "name": "python",
   "nbconvert_exporter": "python",
   "pygments_lexer": "ipython3",
   "version": "3.5.2"
  }
 },
 "nbformat": 4,
 "nbformat_minor": 2
}
