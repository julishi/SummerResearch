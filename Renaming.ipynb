{
 "cells": [
  {
   "cell_type": "code",
   "execution_count": 1,
   "metadata": {},
   "outputs": [
    {
     "name": "stderr",
     "output_type": "stream",
     "text": [
      "/Library/Frameworks/Python.framework/Versions/3.5/lib/python3.5/importlib/_bootstrap.py:222: RuntimeWarning: compiletime version 3.6 of module 'tensorflow.python.framework.fast_tensor_util' does not match runtime version 3.5\n",
      "  return f(*args, **kwds)\n"
     ]
    },
    {
     "name": "stdout",
     "output_type": "stream",
     "text": [
      "FilesDivided\n",
      "HAM10000\n",
      "JIDEditorialImages\n",
      "MSK-2\n",
      "MSK-3\n",
      "MSK-4\n",
      "MSK-5\n",
      "UDA-1\n",
      "UDA-2\n"
     ]
    }
   ],
   "source": [
    "import os\n",
    "from PIL import Image, ImageFilter\n",
    "import glob \n",
    "import random\n",
    "import shutil \n",
    "import tensorflow as tf\n",
    "import json\n",
    "from tensorflow.examples.tutorials.mnist import input_data\n",
    "\n",
    "#set training image ratio\n",
    "TRAIN_PER = 20 \n",
    "#set test image ratio\n",
    "TEST_PER = 5 \n",
    "\n",
    "renames = []\n",
    "\n",
    "#set output size\n",
    "#We will use Alexnet image sizes\n",
    "out_width = 224\n",
    "out_height = 224\n",
    "\n",
    "\n",
    "\n",
    "#Declare the Empty list for Classes, otherwise it will be filled with irrelevant data\n",
    "img_files = []\n",
    "\n",
    "# set input dir path\n",
    "path = '/Users/julianashihadeh/Desktop/testProject/SummerResearchTutorials'\n",
    "\n",
    "#Change current directory to Images \n",
    "os.chdir(path + '/ISIC-SubSet')\n",
    "\n",
    "for x in glob.glob('./*'):\n",
    "    img_files.append(x.split('/')[1])\n",
    "\n",
    "for i in img_files:\n",
    "    print(i)"
   ]
  },
  {
   "cell_type": "code",
   "execution_count": null,
   "metadata": {},
   "outputs": [],
   "source": [
    "#Declare the Empty list for Classes, otherwise it will be filled with irrelevant data\n",
    "file_rename = []\n",
    "file_renamed = []\n",
    "# set input dir path\n",
    "path = '/Users/julianashihadeh/Desktop/testProject/SummerResearchTutorials'\n",
    "\n",
    "for i in img_files: \n",
    "    #Change current directory to Images \n",
    "    os.chdir(path + '/ISIC-SubSet2/FilesDivided' + i + '/JPGFiles')\n",
    "    #print (os.listdir(os.getcwd()))\n",
    "\n",
    "    for x in glob.glob('./*'):\n",
    "        file_rename.append(x.split('/')[1])\n",
    "\n",
    "    for i in file_rename:\n",
    "        print(i)\n",
    "\n",
    "    for i in jpg_imgs:\n",
    "        print(i)\n",
    "    x = 0\n",
    "    for i in file_rename:\n",
    "        os.rename(i, jpg_imgs[x])\n",
    "        x = x + 1\n",
    "    print(\"renames\")\n",
    "    os.chdir(path + '/ISIC-SubSet2/FilesDivided' + i + '/JPGFiles')\n",
    "    for x in glob.glob('./*'):\n",
    "        file_renamed.append(x.split('/')[1])\n",
    "    for i in file_renamed:\n",
    "        print(i)"
   ]
  }
 ],
 "metadata": {
  "kernelspec": {
   "display_name": "Python 3",
   "language": "python",
   "name": "python3"
  },
  "language_info": {
   "codemirror_mode": {
    "name": "ipython",
    "version": 3
   },
   "file_extension": ".py",
   "mimetype": "text/x-python",
   "name": "python",
   "nbconvert_exporter": "python",
   "pygments_lexer": "ipython3",
   "version": "3.5.2"
  }
 },
 "nbformat": 4,
 "nbformat_minor": 2
}
